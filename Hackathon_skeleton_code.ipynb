{
 "cells": [
  {
   "cell_type": "markdown",
   "metadata": {},
   "source": [
    "## Frame the Problem\n",
    "\n",
    "In late 2010, Onion prices shot through the roof and causing grave crisis. \n",
    "Apparently the crisis was caused by lack of rainfall in major onion producing region - Maharashtra and Karnataka and \n",
    "led to large scale hoarding by the traders. The crisis caused political tension in the country and described as \"a grave concern\" by then Prime Minister Manmohan Singh.\n",
    "\n",
    "    BBC Article in Dec 2010 - Stink over onion crisis is enough to make you cry\n",
    "    Hindu OpEd in Dec 2010 - The political price of onions\n",
    "\n",
    "\n",
    "**Questions we will attempt¶**\n",
    "1. Descriptive: How big is the Bangalore onion market compared to other cities in India?\n",
    "2. Exploratory / Inferential: Have the price variation in onion prices in Bangalore really gone up over the years?\n",
    "3. Predictive: Can we predict the price of onion in Bangalore? \n"
   ]
  },
  {
   "cell_type": "markdown",
   "metadata": {},
   "source": [
    "## Acquire the data"
   ]
  },
  {
   "cell_type": "code",
   "execution_count": null,
   "metadata": {
    "collapsed": true
   },
   "outputs": [],
   "source": [
    "# Import the library we need, which is Pandas\n",
    "import pandas as pd\n",
    "\n",
    "# Read the csv file of Monthwise Quantity and Price csv file we have.\n",
    "df = pd.read_csv('MonthWiseMarketArrivals_clean.csv')"
   ]
  },
  {
   "cell_type": "markdown",
   "metadata": {},
   "source": [
    "## Understand Data Structure and Types"
   ]
  },
  {
   "cell_type": "code",
   "execution_count": null,
   "metadata": {
    "collapsed": false
   },
   "outputs": [],
   "source": [
    "#Hint: find the dimensions(i.e. shape()) of a pandas data frame and look at the top rows (head())\n",
    "#of the data\n",
    "\n",
    "\n",
    "\n"
   ]
  },
  {
   "cell_type": "markdown",
   "metadata": {},
   "source": [
    "## You should see the following data structure\n",
    "So we have ten columns in our dataset. Let us understand what each one is.\n",
    "\n",
    "Three are about the location of the Wholesale Market where Onion where sold.\n",
    "* state: This is the 2/3 letter abbreviation for the state in India (PB is Punjab and so on)\n",
    "* city: This is the city in India (ABOHAR, BANGALORE and so on)\n",
    "* market: This is a string with the combination of the state and city\n",
    "\n",
    "Three are related to the\n",
    "* month: Month in January, February and so on.\n",
    "* year: Year in YYYY representastion\n",
    "* date: The combination of the two above.\n",
    "\n",
    "Four are about quantity and price in these wholesale market.\n",
    "* quantity: The quanity of Onion arriving in the market in that month in quintals (100 kg)\n",
    "* priceMin: The minimum price in the month in Rs./quintal\n",
    "* priceMax: The maximum price in the month in Rs./quintal\n",
    "* priceMod: The modal price in the month in Rs./quintal\n",
    "\n",
    "We would expect the following the columns to be of the following type\n",
    "* CATEGORICAL: state, city, market\n",
    "* TIME INTERVAL: month, year, date\n",
    "* QUANTITATIVE: quantity, priceMin, priceMax, priceModal\n",
    "\n",
    "Let us see what pandas dataframe is reading these columns as."
   ]
  },
  {
   "cell_type": "code",
   "execution_count": null,
   "metadata": {
    "collapsed": true
   },
   "outputs": [],
   "source": [
    "#Hint: find the function to look at the data types(i.e. dtypes()) for a pandas data frame\n",
    "\n"
   ]
  },
  {
   "cell_type": "markdown",
   "metadata": {},
   "source": [
    "## Question 1 - How big is the Bangalore onion market compared to other cities in India?\n",
    "\n",
    "Let us try to do this examination for one of the year only. So we want to reduce our dataframe for only where the year = 2010. This process is called subset.\n",
    "PRINCIPLE: Subset a Dataframe\n",
    "\n",
    "![](img/subsetrows.png)"
   ]
  },
  {
   "cell_type": "code",
   "execution_count": null,
   "metadata": {
    "collapsed": false
   },
   "outputs": [],
   "source": [
    "df2010 = df[df.year == 2010]\n",
    "df2010.head()"
   ]
  },
  {
   "cell_type": "code",
   "execution_count": null,
   "metadata": {
    "collapsed": false
   },
   "outputs": [],
   "source": [
    "# We can also subset on multiple criterias\n",
    "df2010Bang = df[(df.year == 2010) & (df.city == 'BANGALORE')]\n",
    "df2010Bang.head()"
   ]
  },
  {
   "cell_type": "markdown",
   "metadata": {},
   "source": [
    "##  Principle: Split Apply Combine\n",
    "How do we get the sum of quantity for each city.\n"
   ]
  },
  {
   "cell_type": "code",
   "execution_count": null,
   "metadata": {
    "collapsed": false
   },
   "outputs": [],
   "source": [
    "#Hint use grouby(['city']) and sum()\n",
    "\n"
   ]
  },
  {
   "cell_type": "code",
   "execution_count": null,
   "metadata": {
    "collapsed": false
   },
   "outputs": [],
   "source": [
    "#Look at the type data store\n",
    "\n",
    "type(df2010City)\n"
   ]
  },
  {
   "cell_type": "code",
   "execution_count": null,
   "metadata": {
    "collapsed": true
   },
   "outputs": [],
   "source": [
    "# If we only want to apply the sum function on quantity, then we specify the quantity column\n",
    "df2010City = df2010.groupby(['city']).quantity.sum()\n"
   ]
  },
  {
   "cell_type": "code",
   "execution_count": null,
   "metadata": {
    "collapsed": false
   },
   "outputs": [],
   "source": [
    "# Let us see this dataframe\n",
    "# To create a dataframe again, it is best to specify index as false\n",
    "df2010City = df2010.groupby(['city'], as_index=False).quantity.sum()\n",
    "df2010City.head()"
   ]
  },
  {
   "cell_type": "code",
   "execution_count": null,
   "metadata": {
    "collapsed": false
   },
   "outputs": [],
   "source": [
    "# Sort the Dataframe by Quantity to see which one is on top\n",
    "#Hint use sort_values(by=\"quantity\", ascending = False)\n",
    "\n",
    "df2010City.head()"
   ]
  },
  {
   "cell_type": "markdown",
   "metadata": {},
   "source": [
    "### PRINCIPLE: Visual Exploration \n",
    "Lets load the libraries required for plotting in python"
   ]
  },
  {
   "cell_type": "code",
   "execution_count": null,
   "metadata": {
    "collapsed": true
   },
   "outputs": [],
   "source": [
    "# Load the visualisation libraries - Matplotlib\n",
    "%matplotlib inline\n",
    "from matplotlib import pyplot as plt\n"
   ]
  },
  {
   "cell_type": "markdown",
   "metadata": {},
   "source": [
    "## Question 2 - Have the price variation in Onion prices in Bangalore really gone up over the years?"
   ]
  },
  {
   "cell_type": "code",
   "execution_count": null,
   "metadata": {
    "collapsed": false
   },
   "outputs": [],
   "source": [
    "dfBang = df[df.city == 'BANGALORE']\n",
    "dfBang.describe()"
   ]
  },
  {
   "cell_type": "markdown",
   "metadata": {},
   "source": [
    "### PRINCIPLE: Setting Index"
   ]
  },
  {
   "cell_type": "code",
   "execution_count": null,
   "metadata": {
    "collapsed": false
   },
   "outputs": [],
   "source": [
    "#Check out the existing index\n",
    "dfBang.index"
   ]
  },
  {
   "cell_type": "code",
   "execution_count": null,
   "metadata": {
    "collapsed": false
   },
   "outputs": [],
   "source": [
    "# Set the index as date\n",
    "dfBang = dfBang.sort_values(by = \"date\")\n",
    "dfBang.head()"
   ]
  },
  {
   "cell_type": "code",
   "execution_count": null,
   "metadata": {
    "collapsed": false
   },
   "outputs": [],
   "source": [
    "# Set the Index for the Dataframe\n",
    "dfBang.index = pd.PeriodIndex(dfBang.date, freq='M')\n",
    "dfBang.head()\n"
   ]
  },
  {
   "cell_type": "code",
   "execution_count": null,
   "metadata": {
    "collapsed": false
   },
   "outputs": [],
   "source": [
    "dfBang.priceMod.plot()\n"
   ]
  },
  {
   "cell_type": "code",
   "execution_count": null,
   "metadata": {
    "collapsed": true
   },
   "outputs": [],
   "source": [
    "dfBang.plot(kind = \"line\", y = ['priceMin', 'priceMod', 'priceMax'])"
   ]
  },
  {
   "cell_type": "code",
   "execution_count": null,
   "metadata": {
    "collapsed": false
   },
   "outputs": [],
   "source": [
    "dfBang['priceDiff'] = dfBang['priceMax'] - dfBang['priceMin']\n",
    "dfBang.head()"
   ]
  },
  {
   "cell_type": "code",
   "execution_count": null,
   "metadata": {
    "collapsed": true
   },
   "outputs": [],
   "source": [
    "dfBang.plot(kind = 'line', y = 'priceDiff')"
   ]
  },
  {
   "cell_type": "markdown",
   "metadata": {},
   "source": [
    "### PRINCIPLE: Pivot Table\n",
    "\n",
    "Pivot table is a way to summarize data frame data into index (rows), columns and value \n",
    "\n",
    "![](img/pivot.png)"
   ]
  },
  {
   "cell_type": "code",
   "execution_count": null,
   "metadata": {
    "collapsed": false
   },
   "outputs": [],
   "source": [
    "# Create new variable for Integer Month\n",
    "dfBang['monthVal'] = pd.DatetimeIndex(dfBang['date']).month\n",
    "dfBang.head()\n"
   ]
  },
  {
   "cell_type": "code",
   "execution_count": null,
   "metadata": {
    "collapsed": false
   },
   "outputs": [],
   "source": [
    "dfBangPivot = pd.pivot_table(dfBang, values = \"priceDiff\",\n",
    "                             columns = \"year\", index = \"monthVal\")\n",
    "dfBangPivot\n"
   ]
  },
  {
   "cell_type": "code",
   "execution_count": null,
   "metadata": {
    "collapsed": false
   },
   "outputs": [],
   "source": [
    "dfBangPivot.plot(subplots = True, figsize=(15, 15), layout=(3, 5), sharey=True)\n",
    "pass"
   ]
  },
  {
   "cell_type": "markdown",
   "metadata": {},
   "source": [
    "# 5. Model the Solution"
   ]
  },
  {
   "cell_type": "code",
   "execution_count": null,
   "metadata": {
    "collapsed": false
   },
   "outputs": [],
   "source": [
    "# Import the library we need, which is Pandas and Matplotlib\n",
    "import numpy as np\n",
    "\n",
    "# Import statsmodel\n",
    "from statsmodels import api as sm\n",
    "import statsmodels.formula.api as smf\n",
    "from statsmodels.tsa.stattools import adfuller"
   ]
  },
  {
   "cell_type": "code",
   "execution_count": null,
   "metadata": {
    "collapsed": true
   },
   "outputs": [],
   "source": [
    "# Set some parameters to get good visuals - style to ggplot and size to 15,10\n",
    "plt.style.use('ggplot')\n",
    "plt.rcParams['figure.figsize'] = (15, 10)"
   ]
  },
  {
   "cell_type": "code",
   "execution_count": null,
   "metadata": {
    "collapsed": false
   },
   "outputs": [],
   "source": [
    "# Changing the date column to a Time Interval columnn\n",
    "df.date = pd.DatetimeIndex(df.date)\n",
    "\n",
    "# Change the index to the date column\n",
    "df.index = pd.PeriodIndex(df.date, freq='M')\n",
    "# Sort the data frame by date\n",
    "df = df.sort_values(by = \"date\")\n",
    "df.head()"
   ]
  },
  {
   "cell_type": "markdown",
   "metadata": {},
   "source": [
    "## Question 3: Can we forecast the price of Onion in Bangalore?\n",
    "Get the priceMod for Bangalore Market"
   ]
  },
  {
   "cell_type": "code",
   "execution_count": null,
   "metadata": {
    "collapsed": false
   },
   "outputs": [],
   "source": [
    "dfBang = df.loc[df.city == \"BANGALORE\"].copy()\n",
    "dfBang.head()\n"
   ]
  },
  {
   "cell_type": "code",
   "execution_count": null,
   "metadata": {
    "collapsed": true
   },
   "outputs": [],
   "source": [
    "# Drop redundant columns\n",
    "dfBang = dfBang.drop([\"market\", \"month\", \"year\", \"state\", \"city\", \"priceMin\", \"priceMax\"], axis = 1)\n",
    "dfBang.head()\n"
   ]
  },
  {
   "cell_type": "code",
   "execution_count": null,
   "metadata": {
    "collapsed": true
   },
   "outputs": [],
   "source": [
    "dfBang.priceMod.plot()\n"
   ]
  },
  {
   "cell_type": "code",
   "execution_count": null,
   "metadata": {
    "collapsed": true
   },
   "outputs": [],
   "source": [
    "dfBang.quantity.plot()"
   ]
  },
  {
   "cell_type": "markdown",
   "metadata": {},
   "source": [
    "### Transformation - Log\n",
    "\n",
    "Transformations such as logarithms can help to stabilize the variance of a time series. "
   ]
  },
  {
   "cell_type": "code",
   "execution_count": null,
   "metadata": {
    "collapsed": false
   },
   "outputs": [],
   "source": [
    "dfBang.priceMod.plot(kind = \"hist\", bins = 30)\n",
    "pass"
   ]
  },
  {
   "cell_type": "code",
   "execution_count": null,
   "metadata": {
    "collapsed": false
   },
   "outputs": [],
   "source": [
    "dfBang['priceModLog'] = np.log(dfBang.priceMod)\n",
    "dfBang.head()"
   ]
  },
  {
   "cell_type": "code",
   "execution_count": null,
   "metadata": {
    "collapsed": false
   },
   "outputs": [],
   "source": [
    "dfBang.priceModLog.plot(kind = \"hist\", bins = 30)\n",
    "pass"
   ]
  },
  {
   "cell_type": "code",
   "execution_count": null,
   "metadata": {
    "collapsed": false
   },
   "outputs": [],
   "source": [
    "try:\n",
    "    dfBang.priceModLog.plot()\n",
    "except AttributeError:\n",
    "    pass"
   ]
  },
  {
   "cell_type": "markdown",
   "metadata": {},
   "source": [
    "## Basic Time Series Model\n",
    "\n",
    "We will build a time-series forecasting model to get a forecast for Onion prices. Let us start with one of the most basic model - \n",
    "1. Linear Trend Model\n",
    "\n",
    "## Linear Trend Model\n",
    "\n",
    "Let us start by plotting a linear trend model between priceModLog and time.\n",
    "\n",
    "However to do linear regression, we need a numeric indicator for time period - Let us create that."
   ]
  },
  {
   "cell_type": "markdown",
   "metadata": {},
   "source": [
    "**Can we measure the error rate?**\n",
    "\n",
    "We will use Root Mean Squared Error (RMSE) to calculate our error values\n",
    "\n",
    "$RMSE = \\Sigma \\sqrt{ (\\hat{y} - y)^2/n} $ , where $\\hat{y}$ is  predicted value of y"
   ]
  },
  {
   "cell_type": "code",
   "execution_count": null,
   "metadata": {
    "collapsed": true
   },
   "outputs": [],
   "source": [
    "#Define the RMSE function\n",
    "def RMSE(predicted, actual):\n",
    "    mse = (predicted - actual)**2\n",
    "    rmse = np.sqrt(mse.sum()/mse.count())\n",
    "    return rmse"
   ]
  },
  {
   "cell_type": "code",
   "execution_count": null,
   "metadata": {
    "collapsed": true
   },
   "outputs": [],
   "source": [
    "dfBang.head()"
   ]
  },
  {
   "cell_type": "code",
   "execution_count": null,
   "metadata": {
    "collapsed": true
   },
   "outputs": [],
   "source": [
    "# What is the starting month of our data\n",
    "#Hint: use date.min()\n",
    "\n"
   ]
  },
  {
   "cell_type": "code",
   "execution_count": null,
   "metadata": {
    "collapsed": false
   },
   "outputs": [],
   "source": [
    "# Convert date in datetimedelta figure starting from zero\n",
    "dfBang[\"timeIndex\"] = dfBang.date - dfBang.date.min()\n",
    "dfBang.head()"
   ]
  },
  {
   "cell_type": "code",
   "execution_count": null,
   "metadata": {
    "collapsed": true
   },
   "outputs": [],
   "source": [
    "# Convert to months using the timedelta function\n",
    "dfBang[\"timeIndex\"] =  dfBang[\"timeIndex\"]/np.timedelta64(1, 'M')\n",
    "# Round the number to 0\n",
    "dfBang[\"timeIndex\"] = dfBang[\"timeIndex\"].round(0).astype(int)\n",
    "dfBang.timeIndex.tail()\n"
   ]
  },
  {
   "cell_type": "code",
   "execution_count": null,
   "metadata": {
    "collapsed": false
   },
   "outputs": [],
   "source": [
    "## Now plot linear regression between priceMod and timeIndex\n",
    "model_linear = smf.ols('priceModLog ~ timeIndex', data = dfBang).fit()\n",
    "model_linear.summary()"
   ]
  },
  {
   "cell_type": "code",
   "execution_count": null,
   "metadata": {
    "collapsed": true
   },
   "outputs": [],
   "source": [
    "## Parameters for y = xB + error equation\n",
    "model_linear.params\n"
   ]
  },
  {
   "cell_type": "code",
   "execution_count": null,
   "metadata": {
    "collapsed": true
   },
   "outputs": [],
   "source": [
    "model_linear_pred = model_linear.predict()\n",
    "model_linear_pred"
   ]
  },
  {
   "cell_type": "code",
   "execution_count": null,
   "metadata": {
    "collapsed": false
   },
   "outputs": [],
   "source": [
    "# Plot the prediction line\n",
    "dfBang.plot(kind=\"line\", x=\"timeIndex\", y = \"priceModLog\")\n",
    "pass"
   ]
  },
  {
   "cell_type": "code",
   "execution_count": null,
   "metadata": {
    "collapsed": true
   },
   "outputs": [],
   "source": [
    "plt.plot(dfBang.timeIndex,model_linear_pred, '-')\n",
    "pass"
   ]
  },
  {
   "cell_type": "code",
   "execution_count": null,
   "metadata": {
    "collapsed": true
   },
   "outputs": [],
   "source": [
    "# Manual Calculation\n",
    "c = model_linear.params[0]\n",
    "m = model_linear.params[1]\n",
    "model_linear_forecast_manual = m * 146 + c\n",
    "model_linear_forecast_manual"
   ]
  },
  {
   "cell_type": "code",
   "execution_count": null,
   "metadata": {
    "collapsed": true
   },
   "outputs": [],
   "source": [
    "# Using Predict Function\n",
    "model_linear_forecast_auto = model_linear.predict(exog = dict(timeIndex=146))\n",
    "model_linear_forecast_auto\n",
    "dfBang[\"priceLinear\"] = np.exp(model_linear_pred)\n",
    "dfBang.head()\n"
   ]
  },
  {
   "cell_type": "code",
   "execution_count": null,
   "metadata": {
    "collapsed": false
   },
   "outputs": [],
   "source": [
    "# Root Mean Squared Error (RMSE)\n",
    "model_linear_RMSE = RMSE(dfBang.priceLinear, dfBang.priceMod)\n",
    "model_linear_RMSE\n"
   ]
  },
  {
   "cell_type": "code",
   "execution_count": null,
   "metadata": {
    "collapsed": true
   },
   "outputs": [],
   "source": [
    "# Save this in a dataframe\n",
    "dfBangResults = pd.DataFrame(columns = [\"Model\", \"Forecast\", \"RMSE\"])\n",
    "dfBangResults.head()\n"
   ]
  },
  {
   "cell_type": "code",
   "execution_count": null,
   "metadata": {
    "collapsed": true
   },
   "outputs": [],
   "source": [
    "dfBangResults.loc[1,\"Model\"] = \"Linear\"\n",
    "dfBangResults.loc[1,\"Forecast\"] = np.exp(model_linear_forecast_manual)\n",
    "dfBangResults.loc[1,\"RMSE\"] = model_linear_RMSE\n",
    "dfBangResults.head()\n"
   ]
  },
  {
   "cell_type": "code",
   "execution_count": null,
   "metadata": {
    "collapsed": true
   },
   "outputs": [],
   "source": [
    "dfBang.plot(kind=\"line\", x=\"timeIndex\", y = [\"priceMod\", \"priceLinear\"])"
   ]
  },
  {
   "cell_type": "markdown",
   "metadata": {},
   "source": [
    "## Linear Model with Regressor"
   ]
  },
  {
   "cell_type": "code",
   "execution_count": null,
   "metadata": {
    "collapsed": true
   },
   "outputs": [],
   "source": [
    "## Now plot linear regression between priceMod and timeIndex\n",
    "model_linear_quantity = smf.ols('priceModLog ~ timeIndex + np.log(quantity)',\n",
    "                                data = dfBang).fit()"
   ]
  },
  {
   "cell_type": "code",
   "execution_count": null,
   "metadata": {
    "collapsed": false
   },
   "outputs": [],
   "source": [
    "model_linear_quantity.summary()\n"
   ]
  },
  {
   "cell_type": "code",
   "execution_count": null,
   "metadata": {
    "collapsed": true
   },
   "outputs": [],
   "source": [
    "dfBang[\"priceLinearQuantity\"] = np.exp(model_linear_quantity.predict())\n",
    "dfBang.plot(kind = \"line\", x=\"timeIndex\", y = \"quantity\")\n"
   ]
  },
  {
   "cell_type": "code",
   "execution_count": null,
   "metadata": {
    "collapsed": true
   },
   "outputs": [],
   "source": [
    "dfBang.plot(kind=\"line\", x=\"timeIndex\", y = [\"priceMod\", \n",
    "                                             \"priceLinear\", \"priceLinearQuantity\"])"
   ]
  }
 ],
 "metadata": {
  "kernelspec": {
   "display_name": "Python 3",
   "language": "python",
   "name": "python3"
  },
  "language_info": {
   "codemirror_mode": {
    "name": "ipython",
    "version": 3
   },
   "file_extension": ".py",
   "mimetype": "text/x-python",
   "name": "python",
   "nbconvert_exporter": "python",
   "pygments_lexer": "ipython3",
   "version": "3.5.2"
  }
 },
 "nbformat": 4,
 "nbformat_minor": 0
}
